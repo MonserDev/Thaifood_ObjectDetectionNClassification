{
 "cells": [
  {
   "cell_type": "code",
   "execution_count": 1,
   "id": "2a57a10b",
   "metadata": {},
   "outputs": [],
   "source": [
    "from ultralytics import YOLO\n",
    "import cv2\n",
    "import os\n"
   ]
  },
  {
   "cell_type": "code",
   "execution_count": 2,
   "id": "b1029807",
   "metadata": {},
   "outputs": [],
   "source": [
    "model = YOLO(\"C:/Users/niwat maneewong/OneDrive/Desktop/First/homwork/CS/Thaifood_ObjectDetectionNClassification/datasets/food/runs/detect/train14/weights/best.pt\")  # path to your trained weights\n"
   ]
  },
  {
   "cell_type": "code",
   "execution_count": 3,
   "id": "1025a8ec",
   "metadata": {},
   "outputs": [],
   "source": [
    "# crop 1 จานได้\n",
    "def crop_from_results(results, image_paths, output_dir='cropped', conf_threshold=0.5, target_class=1):\n",
    "    os.makedirs(output_dir, exist_ok=True)\n",
    "\n",
    "    for idx, result in enumerate(results):\n",
    "        image_path = image_paths[idx]\n",
    "        image = cv2.imread(image_path)\n",
    "\n",
    "        if image is None:\n",
    "            print(f\"❌ Failed to read {image_path}\")\n",
    "            continue\n",
    "\n",
    "        # Extract boxes, class IDs, and confidences\n",
    "        try:\n",
    "            boxes = result.boxes.xyxy.cpu().numpy()  # [x1, y1, x2, y2, conf]\n",
    "            class_ids = result.boxes.cls.cpu().numpy()\n",
    "            confidences = result.boxes.conf.cpu().numpy()\n",
    "        except AttributeError:\n",
    "            print(f\"❌ result[{idx}] is missing .boxes or attributes\")\n",
    "            continue\n",
    "\n",
    "        crop_count = 0\n",
    "        for i, (box, cls_id, conf) in enumerate(zip(boxes, class_ids, confidences)):\n",
    "            if conf < conf_threshold:\n",
    "                continue\n",
    "            if int(cls_id) != target_class:\n",
    "                continue  # skip other classes\n",
    "\n",
    "            x1, y1, x2, y2 = map(int, box[:4])\n",
    "            cropped = image[y1:y2, x1:x2]\n",
    "\n",
    "            basename = os.path.basename(image_path).split('.')[0]\n",
    "            out_path = os.path.join(output_dir, f\"{basename}_class{target_class}_crop{crop_count+1}.jpg\")\n",
    "            cv2.imwrite(out_path, cropped)\n",
    "            print(f\"✅ Saved: {out_path}\")\n",
    "            crop_count += 1\n"
   ]
  },
  {
   "cell_type": "code",
   "execution_count": 5,
   "id": "7468880e",
   "metadata": {},
   "outputs": [],
   "source": [
    "# crop หลายจานได้\n",
    "\n",
    "def crop_all_dishes_from_results(results, image_paths, output_dir='cropped', conf_threshold=0.3, class_names=None):\n",
    "    os.makedirs(output_dir, exist_ok=True)\n",
    "\n",
    "    for idx, result in enumerate(results):\n",
    "        image_path = image_paths[idx]\n",
    "        image = cv2.imread(image_path)\n",
    "\n",
    "        if image is None:\n",
    "            print(f\"❌ Failed to read {image_path}\")\n",
    "            continue\n",
    "\n",
    "        try:\n",
    "            boxes = result.boxes.xyxy.cpu().numpy()   # [x1, y1, x2, y2, conf]\n",
    "            class_ids = result.boxes.cls.cpu().numpy()\n",
    "            confidences = result.boxes.conf.cpu().numpy()\n",
    "        except AttributeError:\n",
    "            print(f\"❌ result[{idx}] missing .boxes attributes\")\n",
    "            continue\n",
    "\n",
    "        basename = os.path.splitext(os.path.basename(image_path))[0]\n",
    "        count = 0\n",
    "        for i, (box, cls_id, conf) in enumerate(zip(boxes, class_ids, confidences)):\n",
    "            if conf < conf_threshold:\n",
    "                continue\n",
    "\n",
    "            x1, y1, x2, y2 = map(int, box[:4])\n",
    "            cropped = image[y1:y2, x1:x2]\n",
    "\n",
    "            class_name = f\"class{int(cls_id)}\"\n",
    "            if class_names and int(cls_id) < len(class_names):\n",
    "                class_name = class_names[int(cls_id)]\n",
    "\n",
    "            save_name = f\"{basename}_{class_name}_crop{i+1}.jpg\"\n",
    "            save_path = os.path.join(output_dir, save_name)\n",
    "            cv2.imwrite(save_path, cropped)\n",
    "            print(f\"✅ Saved: {save_path}\")\n",
    "            count += 1\n",
    "\n",
    "        if count == 0:\n",
    "            print(f\"⚠️ No dishes detected in {image_path} with confidence > {conf_threshold}\")\n"
   ]
  },
  {
   "cell_type": "code",
   "execution_count": 9,
   "id": "4bbb76fc",
   "metadata": {
    "scrolled": true
   },
   "outputs": [
    {
     "name": "stdout",
     "output_type": "stream",
     "text": [
      "\n",
      "image 1/1 C:\\Users\\niwat maneewong\\OneDrive\\Desktop\\First\\homwork\\CS\\Thaifood_ObjectDetectionNClassification\\datasets\\food\\traintest\\output\\output_plate1.jpg: 448x640 1 dish2, 47.4ms\n",
      "Speed: 7.1ms preprocess, 47.4ms inference, 2.1ms postprocess per image at shape (1, 3, 448, 640)\n",
      "\n",
      "image 1/1 C:\\Users\\niwat maneewong\\OneDrive\\Desktop\\First\\homwork\\CS\\Thaifood_ObjectDetectionNClassification\\datasets\\food\\traintest\\output\\output_plate2.jpg: 448x640 1 dish1, 2 dish2s, 45.2ms\n",
      "Speed: 5.5ms preprocess, 45.2ms inference, 1.7ms postprocess per image at shape (1, 3, 448, 640)\n",
      "\n",
      "image 1/1 C:\\Users\\niwat maneewong\\OneDrive\\Desktop\\First\\homwork\\CS\\Thaifood_ObjectDetectionNClassification\\datasets\\food\\traintest\\output\\output_plate3.jpg: 448x640 1 dish2, 44.8ms\n",
      "Speed: 3.9ms preprocess, 44.8ms inference, 2.0ms postprocess per image at shape (1, 3, 448, 640)\n",
      "✅ Saved: cropped\\output_plate1_dish2_crop1.jpg\n",
      "✅ Saved: cropped\\output_plate2_dish2_crop1.jpg\n",
      "✅ Saved: cropped\\output_plate2_dish1_crop2.jpg\n",
      "✅ Saved: cropped\\output_plate3_dish2_crop1.jpg\n"
     ]
    }
   ],
   "source": [
    "# แก้pathก้ด้วยนะ ของกุใส่.ละมันหาไม่เจอ\n",
    "image_dir = \"C:/Users/niwat maneewong/OneDrive/Desktop/First/homwork/CS/Thaifood_ObjectDetectionNClassification/datasets/food/traintest/output\"\n",
    "# อันนี้กุลองบางรูปนะ\n",
    "# image_names = [\"plate1.jpg\", \"plate2.jpg\", \"plate3.jpg\", \"plate4.jpg\", \"plate5.jpg\"]\n",
    "# image_names = [\"plate6.jpg\",\"plate8.jpg\",\"plate9.jpg\"]\n",
    "image_names = [\"output_plate1.jpg\",\"output_plate2.jpg\",\"output_plate3.jpg\"]\n",
    "image_paths = [os.path.join(image_dir, name) for name in image_names]\n",
    "\n",
    "# Make sure 'results' is already created with model(image_paths)\n",
    "# Then call:\n",
    "results = [model(os.path.join(image_dir, name))[0] for name in image_names]\n",
    "# crop_from_results(results, image_paths, target_class=1)  # dish2\n",
    "class_names = [\"dish1\", \"dish2\"]\n",
    "crop_all_dishes_from_results(results, image_paths, class_names=class_names)\n"
   ]
  },
  {
   "cell_type": "code",
   "execution_count": 8,
   "id": "30135d02",
   "metadata": {},
   "outputs": [
    {
     "name": "stdout",
     "output_type": "stream",
     "text": [
      "\n",
      "image 1/9 C:\\Users\\niwat maneewong\\OneDrive\\Desktop\\First\\homwork\\CS\\Thaifood_ObjectDetectionNClassification\\datasets\\food\\traintest\\plate\\plate1.jpg: 448x640 1 dish2, 45.7ms\n",
      "image 2/9 C:\\Users\\niwat maneewong\\OneDrive\\Desktop\\First\\homwork\\CS\\Thaifood_ObjectDetectionNClassification\\datasets\\food\\traintest\\plate\\plate2.jpg: 448x640 1 dish1, 1 dish2, 44.9ms\n",
      "image 3/9 C:\\Users\\niwat maneewong\\OneDrive\\Desktop\\First\\homwork\\CS\\Thaifood_ObjectDetectionNClassification\\datasets\\food\\traintest\\plate\\plate3.jpg: 448x640 1 dish1, 1 dish2, 44.9ms\n",
      "image 4/9 C:\\Users\\niwat maneewong\\OneDrive\\Desktop\\First\\homwork\\CS\\Thaifood_ObjectDetectionNClassification\\datasets\\food\\traintest\\plate\\plate4.jpg: 448x640 1 dish1, 1 dish2, 44.8ms\n",
      "image 5/9 C:\\Users\\niwat maneewong\\OneDrive\\Desktop\\First\\homwork\\CS\\Thaifood_ObjectDetectionNClassification\\datasets\\food\\traintest\\plate\\plate5.jpg: 480x640 1 dish2, 48.2ms\n",
      "image 6/9 C:\\Users\\niwat maneewong\\OneDrive\\Desktop\\First\\homwork\\CS\\Thaifood_ObjectDetectionNClassification\\datasets\\food\\traintest\\plate\\plate6.jpg: 448x640 12 dish1s, 41.7ms\n",
      "image 7/9 C:\\Users\\niwat maneewong\\OneDrive\\Desktop\\First\\homwork\\CS\\Thaifood_ObjectDetectionNClassification\\datasets\\food\\traintest\\plate\\plate7.jpg: 384x640 8 dish1s, 33.4ms\n",
      "image 8/9 C:\\Users\\niwat maneewong\\OneDrive\\Desktop\\First\\homwork\\CS\\Thaifood_ObjectDetectionNClassification\\datasets\\food\\traintest\\plate\\plate8.jpg: 384x640 2 dish1s, 2 dish2s, 32.1ms\n",
      "image 9/9 C:\\Users\\niwat maneewong\\OneDrive\\Desktop\\First\\homwork\\CS\\Thaifood_ObjectDetectionNClassification\\datasets\\food\\traintest\\plate\\plate9.jpg: 480x640 3 dish1s, 2 dish2s, 36.2ms\n",
      "Speed: 4.3ms preprocess, 41.3ms inference, 2.0ms postprocess per image at shape (1, 3, 480, 640)\n",
      "<class 'list'>\n",
      "['__add__', '__class__', '__class_getitem__', '__contains__', '__delattr__', '__delitem__', '__dir__', '__doc__', '__eq__', '__format__', '__ge__', '__getattribute__', '__getitem__', '__getstate__', '__gt__', '__hash__', '__iadd__', '__imul__', '__init__', '__init_subclass__', '__iter__', '__le__', '__len__', '__lt__', '__mul__', '__ne__', '__new__', '__reduce__', '__reduce_ex__', '__repr__', '__reversed__', '__rmul__', '__setattr__', '__setitem__', '__sizeof__', '__str__', '__subclasshook__', 'append', 'clear', 'copy', 'count', 'extend', 'index', 'insert', 'pop', 'remove', 'reverse', 'sort']\n"
     ]
    }
   ],
   "source": [
    "results = model(image_dir)\n",
    "print(type(results))\n",
    "print(dir(results))"
   ]
  },
  {
   "cell_type": "code",
   "execution_count": null,
   "id": "4f07789b",
   "metadata": {},
   "outputs": [],
   "source": [
    "# ไม่น่าต้องใละ\n",
    "def yolo_to_xyxy(xc, yc, w, h, img_w, img_h):\n",
    "    x1 = int((xc - w / 2) * img_w)\n",
    "    y1 = int((yc - h / 2) * img_h)\n",
    "    x2 = int((xc + w / 2) * img_w)\n",
    "    y2 = int((yc + h / 2) * img_h)\n",
    "    return [x1, y1, x2, y2]"
   ]
  },
  {
   "cell_type": "code",
   "execution_count": null,
   "id": "fcc9a5bf",
   "metadata": {},
   "outputs": [],
   "source": []
  }
 ],
 "metadata": {
  "kernelspec": {
   "display_name": "Python 3 (ipykernel)",
   "language": "python",
   "name": "python3"
  },
  "language_info": {
   "codemirror_mode": {
    "name": "ipython",
    "version": 3
   },
   "file_extension": ".py",
   "mimetype": "text/x-python",
   "name": "python",
   "nbconvert_exporter": "python",
   "pygments_lexer": "ipython3",
   "version": "3.11.7"
  }
 },
 "nbformat": 4,
 "nbformat_minor": 5
}
